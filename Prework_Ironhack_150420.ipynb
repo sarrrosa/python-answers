{
 "cells": [
  {
   "cell_type": "code",
   "execution_count": 3,
   "metadata": {},
   "outputs": [
    {
     "name": "stdout",
     "output_type": "stream",
     "text": [
      "Happy variable is set to  True\n"
     ]
    }
   ],
   "source": [
    "happy = True\n",
    "print(\"Happy variable is set to \", happy)"
   ]
  },
  {
   "cell_type": "code",
   "execution_count": null,
   "metadata": {},
   "outputs": [],
   "source": [
    "print(5 + 5 != 10)"
   ]
  },
  {
   "cell_type": "code",
   "execution_count": null,
   "metadata": {},
   "outputs": [],
   "source": [
    "print(5 >= 4)"
   ]
  },
  {
   "cell_type": "code",
   "execution_count": null,
   "metadata": {},
   "outputs": [],
   "source": [
    "print(3 in [1, 5, 7, 9])"
   ]
  },
  {
   "cell_type": "code",
   "execution_count": 1,
   "metadata": {},
   "outputs": [
    {
     "name": "stdout",
     "output_type": "stream",
     "text": [
      "True\n"
     ]
    }
   ],
   "source": [
    "print((5 + 5 == 10) & (\"apple\" != \"orange\"))"
   ]
  },
  {
   "cell_type": "code",
   "execution_count": 11,
   "metadata": {},
   "outputs": [
    {
     "name": "stdout",
     "output_type": "stream",
     "text": [
      "Number is exactly 10\n"
     ]
    }
   ],
   "source": [
    "number = 10\n",
    "if number < 10:\n",
    "    print(\"Number is less than 10\")\n",
    "elif number > 10:\n",
    "    print(\"Number is greater than 10\")\n",
    "elif number == 10:\n",
    "    print(\"Number is exactly 10\")\n",
    "else: \n",
    "    print(\"Number is probably not a number at all\")"
   ]
  },
  {
   "cell_type": "code",
   "execution_count": 20,
   "metadata": {},
   "outputs": [],
   "source": [
    "commute = 30\n",
    "rain = False\n",
    "traffic = True\n",
    "\n",
    "if (rain == True) | (traffic == True):\n",
    "    if (rain == True) & (traffic == True):\n",
    "        total_commute = commute + 15 + 20\n",
    "    elif (rain == True) & (traffic == False):\n",
    "        total_commute = commute + 15\n",
    "    elif (rain == False) & (traffic == True):\n",
    "        total_commute = commute + 20\n",
    "\n",
    "else:\n",
    "    total_commute = commute"
   ]
  },
  {
   "cell_type": "code",
   "execution_count": 21,
   "metadata": {},
   "outputs": [
    {
     "name": "stdout",
     "output_type": "stream",
     "text": [
      "Yout total commuting time is expected to be  50 minutes.\n"
     ]
    }
   ],
   "source": [
    "print(\"Yout total commuting time is expected to be \", total_commute, \"minutes.\")"
   ]
  },
  {
   "cell_type": "code",
   "execution_count": 22,
   "metadata": {},
   "outputs": [
    {
     "data": {
      "text/plain": [
       "range(0, 10)"
      ]
     },
     "execution_count": 22,
     "metadata": {},
     "output_type": "execute_result"
    }
   ],
   "source": [
    "range(10)"
   ]
  },
  {
   "cell_type": "code",
   "execution_count": 24,
   "metadata": {},
   "outputs": [
    {
     "data": {
      "text/plain": [
       "10"
      ]
     },
     "execution_count": 24,
     "metadata": {},
     "output_type": "execute_result"
    }
   ],
   "source": [
    "len(range(5, 15))"
   ]
  },
  {
   "cell_type": "code",
   "execution_count": 28,
   "metadata": {},
   "outputs": [
    {
     "name": "stdout",
     "output_type": "stream",
     "text": [
      "5\n",
      "6\n",
      "7\n",
      "8\n",
      "9\n"
     ]
    }
   ],
   "source": [
    "for i in range(5, 10):\n",
    "    print(i)"
   ]
  },
  {
   "cell_type": "code",
   "execution_count": 30,
   "metadata": {},
   "outputs": [
    {
     "name": "stdout",
     "output_type": "stream",
     "text": [
      "Cake is in the oven.\n",
      "Cake is not done yet.\n",
      "Cake is not done yet.\n",
      "Cake is not done yet.\n",
      "It's done. Let's each cake!\n"
     ]
    }
   ],
   "source": [
    "total_time = 60\n",
    "minutes_elapsed = 0\n",
    "wait = 15\n",
    "\n",
    "print(\"Cake is in the oven.\")\n",
    "minutes_elapsed += wait\n",
    "\n",
    "while minutes_elapsed < total_time:\n",
    "    print(\"Cake is not done yet.\")\n",
    "    minutes_elapsed += wait\n",
    "    \n",
    "print (\"It's done. Let's each cake!\")"
   ]
  },
  {
   "cell_type": "code",
   "execution_count": null,
   "metadata": {},
   "outputs": [],
   "source": []
  }
 ],
 "metadata": {
  "kernelspec": {
   "display_name": "Python 3",
   "language": "python",
   "name": "python3"
  },
  "language_info": {
   "codemirror_mode": {
    "name": "ipython",
    "version": 3
   },
   "file_extension": ".py",
   "mimetype": "text/x-python",
   "name": "python",
   "nbconvert_exporter": "python",
   "pygments_lexer": "ipython3",
   "version": "3.7.6"
  }
 },
 "nbformat": 4,
 "nbformat_minor": 4
}
