{
 "cells": [
  {
   "cell_type": "code",
   "execution_count": 73,
   "metadata": {},
   "outputs": [],
   "source": [
    "temperatures = [33, 66, 65, 0, 59, 60, 62, 64, 70, 76, 80, 81, 80, 83, 90, 79, 61, 53, 50, 49, 53, 48, 45, 39]"
   ]
  },
  {
   "cell_type": "code",
   "execution_count": 74,
   "metadata": {
    "scrolled": true
   },
   "outputs": [
    {
     "name": "stdout",
     "output_type": "stream",
     "text": [
      "The minimum temperature is 0\n"
     ]
    }
   ],
   "source": [
    "minimum_temperature = min(temperatures)\n",
    "print(\"The minimum temperature is\", minimum_temperature)"
   ]
  },
  {
   "cell_type": "code",
   "execution_count": 75,
   "metadata": {},
   "outputs": [
    {
     "name": "stdout",
     "output_type": "stream",
     "text": [
      "The maximum temperature is 90\n"
     ]
    }
   ],
   "source": [
    "maximum_temperature = max(temperatures)\n",
    "print(\"The maximum temperature is\", maximum_temperature)"
   ]
  },
  {
   "cell_type": "code",
   "execution_count": 115,
   "metadata": {},
   "outputs": [
    {
     "name": "stdout",
     "output_type": "stream",
     "text": [
      "[70, 76, 80, 81, 80, 83, 90, 79]\n"
     ]
    }
   ],
   "source": [
    "temperature_70 = []\n",
    "\n",
    "for item in temperatures:\n",
    "    if item >= 70:\n",
    "        temperature_70.append(item)\n",
    "print(temperature_70)"
   ]
  },
  {
   "cell_type": "code",
   "execution_count": 119,
   "metadata": {},
   "outputs": [
    {
     "name": "stdout",
     "output_type": "stream",
     "text": [
      "The average temperature of the day is 60.25\n"
     ]
    }
   ],
   "source": [
    "average_temperature = sum(temperatures) / len(temperatures)\n",
    "print(\"The average temperature of the day is\", average_temperature)"
   ]
  },
  {
   "cell_type": "code",
   "execution_count": 120,
   "metadata": {},
   "outputs": [
    {
     "name": "stdout",
     "output_type": "stream",
     "text": [
      "62.0\n"
     ]
    }
   ],
   "source": [
    "average_lost_value = (65 + 59)/ 2\n",
    "print(average_lost_value)"
   ]
  },
  {
   "cell_type": "code",
   "execution_count": 122,
   "metadata": {},
   "outputs": [
    {
     "name": "stdout",
     "output_type": "stream",
     "text": [
      "temperatures = [33, 66, 65, 62, 59, 60, 62, 64, 70, 76, 80, 81, 80, 83, 90, 79, 61, 53, 50, 49, 53, 48, 45, 39]\n"
     ]
    }
   ],
   "source": [
    "temperatures[3] = 62\n",
    "print(\"temperatures =\", temperatures)"
   ]
  },
  {
   "cell_type": "code",
   "execution_count": 143,
   "metadata": {},
   "outputs": [],
   "source": [
    "farenheit_temperature = []\n",
    "farenheit_operation = 0\n",
    "\n",
    "for item in temperatures:\n",
    "    farenheit_operation = 1.8 * item + 32\n",
    "    farenheit_temperature.append(farenheit_operation)"
   ]
  },
  {
   "cell_type": "code",
   "execution_count": 146,
   "metadata": {
    "scrolled": true
   },
   "outputs": [
    {
     "name": "stdout",
     "output_type": "stream",
     "text": [
      "[91.4, 150.8, 149.0, 143.60000000000002, 138.2, 140.0, 143.60000000000002, 147.2, 158.0, 168.8, 176.0, 177.8, 176.0, 181.4, 194.0, 174.20000000000002, 141.8, 127.4, 122.0, 120.2, 127.4, 118.4, 113.0, 102.2]\n"
     ]
    }
   ],
   "source": [
    "print(farenheit_temperature)"
   ]
  },
  {
   "cell_type": "code",
   "execution_count": 153,
   "metadata": {},
   "outputs": [
    {
     "name": "stdout",
     "output_type": "stream",
     "text": [
      "161\n"
     ]
    }
   ],
   "source": [
    "for "
   ]
  },
  {
   "cell_type": "code",
   "execution_count": 158,
   "metadata": {},
   "outputs": [
    {
     "name": "stdout",
     "output_type": "stream",
     "text": [
      "The cooler needs to be replaced\n"
     ]
    }
   ],
   "source": [
    "condition_1 = len(temperature_70)\n",
    "condition_2 = 0\n",
    "condition_3 = average_temperature\n",
    "\n",
    "for temp in temperatures:\n",
    "    if temp > 80:\n",
    "        condition_2 = condition_2 + 1\n",
    "        \n",
    "if (condition_1 >= 4) or (condition_2 > 0) or (condition_3 > 65):\n",
    "    print(\"The cooler needs to be replaced\")"
   ]
  },
  {
   "cell_type": "code",
   "execution_count": 162,
   "metadata": {},
   "outputs": [
    {
     "name": "stdout",
     "output_type": "stream",
     "text": [
      "The cooler needs to be replaced in this scenario, too.\n"
     ]
    }
   ],
   "source": [
    "#BONUS\n",
    "\n",
    "condition_1 = len(temperature_70) \n",
    "condition_1_a = 0\n",
    "condition_2 = 0\n",
    "condition_3 = average_temperature\n",
    "\n",
    "for temp in temperatures:\n",
    "    if temp > 70:\n",
    "        condition_1_a = condition_1_a + 1\n",
    "    elif temp < 70 and condition_1_a <= 4:\n",
    "        condition_1_a = 0\n",
    "\n",
    "for temp in temperatures:\n",
    "    if temp > 80:\n",
    "        condition_2 = condition_2 + 1\n",
    "        \n",
    "if (condition_1_a >= 4) or (condition_2 > 0) or (condition_3 > 65):\n",
    "    print(\"The cooler needs to be replaced in this scenario, too.\")\n"
   ]
  },
  {
   "cell_type": "code",
   "execution_count": 180,
   "metadata": {},
   "outputs": [
    {
     "name": "stdout",
     "output_type": "stream",
     "text": [
      "Average of Celsius values: 62.833333333333336\n",
      "Average of Farenheit values: 145.1\n"
     ]
    }
   ],
   "source": [
    "print(\"Average of Celsius values:\", sum(temperatures)/len(temperatures))\n",
    "print(\"Average of Farenheit values:\", sum(farenheit_temperature)/(len((farenheit_temperature))))"
   ]
  },
  {
   "cell_type": "code",
   "execution_count": 182,
   "metadata": {},
   "outputs": [
    {
     "name": "stdout",
     "output_type": "stream",
     "text": [
      "Standard deviation of Celsius values: 14.94821980579356\n",
      "Standard deviation of Farenheit values: 26.906795650428407\n"
     ]
    }
   ],
   "source": [
    "from statistics import *\n",
    "\n",
    "deviation_c = stdev(temperatures)\n",
    "deviation_f = stdev(farenheit_temperature)\n",
    "\n",
    "print(\"Standard deviation of Celsius values:\", deviation_c)\n",
    "print(\"Standard deviation of Farenheit values:\", deviation_f)"
   ]
  }
 ],
 "metadata": {
  "kernelspec": {
   "display_name": "Python 3",
   "language": "python",
   "name": "python3"
  },
  "language_info": {
   "codemirror_mode": {
    "name": "ipython",
    "version": 3
   },
   "file_extension": ".py",
   "mimetype": "text/x-python",
   "name": "python",
   "nbconvert_exporter": "python",
   "pygments_lexer": "ipython3",
   "version": "3.7.6"
  }
 },
 "nbformat": 4,
 "nbformat_minor": 4
}
