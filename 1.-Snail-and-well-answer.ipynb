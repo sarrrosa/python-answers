{
 "cells": [
  {
   "cell_type": "code",
   "execution_count": 8,
   "metadata": {},
   "outputs": [
    {
     "name": "stdout",
     "output_type": "stream",
     "text": [
      "The snail took 58.0 hours to escape\n",
      "It took 2.4166666666666665 days to escape\n"
     ]
    }
   ],
   "source": [
    "well_height = 125\n",
    "daily_distance = 30\n",
    "nightly_distance = 20\n",
    "snail_position = 0\n",
    "hours = 0\n",
    "\n",
    "while (snail_position < well_height):\n",
    "    #Day conditional\n",
    "    if (well_height - snail_position > daily_distance):\n",
    "        snail_position = snail_position + daily_distance\n",
    "        hours = hours + 12\n",
    "    else:\n",
    "        distance_left = well_height - snail_position\n",
    "        hours_remaining = (distance_left*12)/daily_distance\n",
    "        hours = hours_remaining + hours\n",
    "        snail_position = well_height\n",
    "    #Night conditional\n",
    "    if (well_height - snail_position > nightly_distance):\n",
    "        snail_position = snail_position + nightly_distance\n",
    "        hours = hours + 12\n",
    "    else:\n",
    "        distance_left = well_height - snail_position\n",
    "        hours_remaining = (distance_left*12)/nightly_distance\n",
    "        hours = hours_remaining + hours\n",
    "        snail_position = well_height\n",
    "        \n",
    "day = hours / 24 \n",
    "print(\"The snail took\",hours, \"hours to escape\")\n",
    "print(\"It took\", day, \"days to escape\")"
   ]
  },
  {
   "cell_type": "code",
   "execution_count": 54,
   "metadata": {},
   "outputs": [
    {
     "name": "stdout",
     "output_type": "stream",
     "text": [
      "It took 2.525 days to escape\n"
     ]
    }
   ],
   "source": [
    "#Bonus 1\n",
    "from statistics import *\n",
    "advance_cm = [30, 21, 33, 77, 44, 45, 23, 45, 12, 34, 55]\n",
    "day = 0\n",
    "nightly_distance = 20\n",
    "hours = 0\n",
    "snail_position = 0\n",
    "well_height = 125\n",
    "\n",
    "while (snail_position < well_height):\n",
    "    #Day conditional\n",
    "    if (well_height - snail_position > advance_cm[day]):\n",
    "        snail_position = snail_position + advance_cm[day]\n",
    "        hours = hours + 12\n",
    "    else:\n",
    "        distance_left = well_height - snail_position\n",
    "        hours_remaining = (distance_left*12)/advance_cm[day]\n",
    "        hours = hours_remaining + hours\n",
    "        snail_position = well_height\n",
    "    #Night conditional\n",
    "    if (well_height - snail_position > nightly_distance):\n",
    "        snail_position = snail_position + nightly_distance\n",
    "        hours = hours + 12\n",
    "        day = day + 1\n",
    "    else:\n",
    "        distance_left = well_height - snail_position\n",
    "        hours_remaining = (distance_left*12)/nightly_distance\n",
    "        hours = hours_remaining + hours\n",
    "        snail_position = well_height\n",
    "\n",
    "    \n",
    "days = hours / 24 \n",
    "print(\"It took\", days, \"days to escape\")"
   ]
  },
  {
   "cell_type": "code",
   "execution_count": 55,
   "metadata": {},
   "outputs": [],
   "source": [
    "#Bonus 2\n",
    "#daily_snail_distance = [advance_cm[0] + 20, advance_cm[1] + 20, advance_cm[2] + 20]\n",
    "daily_snail_distance = []\n",
    "\n",
    "\n",
    "for d in range(day+1):\n",
    "    if (d == day):\n",
    "        nightly_distance = distance_left\n",
    "    else:\n",
    "        nightly_distance = 20\n",
    "    daily_snail_distance.append(advance_cm[d] + nightly_distance)\n",
    "    "
   ]
  },
  {
   "cell_type": "code",
   "execution_count": 67,
   "metadata": {},
   "outputs": [
    {
     "name": "stdout",
     "output_type": "stream",
     "text": [
      "Maximum daily distance 50 , Minimum daily distance 34\n"
     ]
    }
   ],
   "source": [
    "print(\"Maximum daily distance\", max(daily_snail_distance),\",\", \"Minimum daily distance\", min(daily_snail_distance))"
   ]
  },
  {
   "cell_type": "code",
   "execution_count": 57,
   "metadata": {},
   "outputs": [
    {
     "name": "stdout",
     "output_type": "stream",
     "text": [
      "41.666666666666664\n"
     ]
    }
   ],
   "source": [
    "#Bonus 3\n",
    "avg = sum(daily_snail_distance)/len(daily_snail_distance)\n",
    "print(avg)"
   ]
  },
  {
   "cell_type": "code",
   "execution_count": 61,
   "metadata": {},
   "outputs": [
    {
     "name": "stdout",
     "output_type": "stream",
     "text": [
      "8.020806277010642\n"
     ]
    }
   ],
   "source": [
    "\n",
    "desviacion = stdev(daily_snail_distance)\n",
    "print(desviacion)"
   ]
  }
 ],
 "metadata": {
  "kernelspec": {
   "display_name": "Python 3",
   "language": "python",
   "name": "python3"
  },
  "language_info": {
   "codemirror_mode": {
    "name": "ipython",
    "version": 3
   },
   "file_extension": ".py",
   "mimetype": "text/x-python",
   "name": "python",
   "nbconvert_exporter": "python",
   "pygments_lexer": "ipython3",
   "version": "3.7.6"
  }
 },
 "nbformat": 4,
 "nbformat_minor": 4
}
