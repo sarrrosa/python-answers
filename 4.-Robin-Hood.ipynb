{
 "cells": [
  {
   "cell_type": "code",
   "execution_count": 56,
   "metadata": {},
   "outputs": [],
   "source": [
    "from scipy.spatial import distance\n",
    "\n",
    "points = [(4, 5), (-0, 2), (4, 7), (1, -3), (3, -2), (4, 5), (3, 2), (5, 7), (-5, 7), (2, 2), (-4, 5), (0, -2),\n",
    "          (-4, 7), (-1, 3), (-3, 2), (-4, -5), (-3, 2), (5, 7), (5, 7), (2, 2), (9, 9), (-8, -9)]\n",
    "\n",
    "quadrant_1 = 0\n",
    "quadrant_2 = 0\n",
    "quadrant_3 = 0\n",
    "quadrant_4 = 0\n",
    "no_quadrant = 0"
   ]
  },
  {
   "cell_type": "code",
   "execution_count": 57,
   "metadata": {},
   "outputs": [
    {
     "name": "stdout",
     "output_type": "stream",
     "text": [
      "The coordinates of the duplicated points are: [(4, 5), (5, 7), (-3, 2), (2, 2)]\n"
     ]
    }
   ],
   "source": [
    "dupl_coordinates = list(set([ele for ele in points \n",
    "            if points.count(ele) > 1])) \n",
    "  \n",
    "print(\"The coordinates of the duplicated points are: \" + str(dupl_coordinates)) "
   ]
  },
  {
   "cell_type": "code",
   "execution_count": 58,
   "metadata": {},
   "outputs": [
    {
     "name": "stdout",
     "output_type": "stream",
     "text": [
      "A total of 10 arrows are in quadrant 1\n",
      "A total of 6 arrows are in quadrant 2\n",
      "A total of 2 arrows are in quadrant 3\n",
      "A total of 2 arrows are in quadrant 4\n",
      "A total of 2 arrows aren't in any quadrant\n"
     ]
    }
   ],
   "source": [
    "for point in points:\n",
    "    if point[0] > 0 and point[1] > 0:\n",
    "        quadrant_1 = quadrant_1 + 1\n",
    "    elif point[0] < 0 and point[1] > 0:\n",
    "        quadrant_2 = quadrant_2 + 1\n",
    "    elif point[0] < 0 and point[1] < 0:\n",
    "        quadrant_3 = quadrant_3 + 1\n",
    "    elif point[0] > 0 and point[1] < 0:\n",
    "        quadrant_4 = quadrant_4 + 1\n",
    "    else:\n",
    "        no_quadrant = no_quadrant + 1\n",
    "print(\"A total of\", quadrant_1, \"arrows are in quadrant 1\")\n",
    "print(\"A total of\", quadrant_2, \"arrows are in quadrant 2\")\n",
    "print(\"A total of\", quadrant_3, \"arrows are in quadrant 3\")\n",
    "print(\"A total of\", quadrant_4, \"arrows are in quadrant 4\")\n",
    "print(\"A total of\", no_quadrant, \"arrows aren't in any quadrant\")"
   ]
  },
  {
   "cell_type": "code",
   "execution_count": 62,
   "metadata": {},
   "outputs": [],
   "source": [
    "def calculate(coordinates):\n",
    "    from scipy.spatial import distance\n",
    "    centre = (0, 0)\n",
    "    d = distance.euclidean(centre, coordinates)\n",
    "    return d"
   ]
  },
  {
   "cell_type": "code",
   "execution_count": 64,
   "metadata": {},
   "outputs": [
    {
     "name": "stdout",
     "output_type": "stream",
     "text": [
      "[6.4031242374328485, 2.0, 8.06225774829855, 3.1622776601683795, 3.605551275463989, 6.4031242374328485, 3.605551275463989, 8.602325267042627, 8.602325267042627, 2.8284271247461903, 6.4031242374328485, 2.0, 8.06225774829855, 3.1622776601683795, 3.605551275463989, 6.4031242374328485, 3.605551275463989, 8.602325267042627, 8.602325267042627, 2.8284271247461903, 12.727922061357855, 12.041594578792296]\n"
     ]
    }
   ],
   "source": [
    "distance_to_centre = []\n",
    "\n",
    "for point in points:\n",
    "    distance = calculate(point)\n",
    "    distance_to_centre.append(distance)\n",
    "print(distance_to_centre)"
   ]
  },
  {
   "cell_type": "code",
   "execution_count": 67,
   "metadata": {},
   "outputs": [
    {
     "name": "stdout",
     "output_type": "stream",
     "text": [
      "2.0\n"
     ]
    }
   ],
   "source": [
    "minimum_distance = min(distance_to_centre)\n",
    "print(minimum_distance)"
   ]
  },
  {
   "cell_type": "code",
   "execution_count": 68,
   "metadata": {},
   "outputs": [
    {
     "name": "stdout",
     "output_type": "stream",
     "text": [
      "2.0\n",
      "2.0\n"
     ]
    }
   ],
   "source": [
    "for distance in distance_to_centre:\n",
    "    if distance == minimum_distance:\n",
    "        print(distance)"
   ]
  },
  {
   "cell_type": "code",
   "execution_count": 72,
   "metadata": {},
   "outputs": [
    {
     "name": "stdout",
     "output_type": "stream",
     "text": [
      "The coordinate is (0, 2)\n",
      "The coordinate is (0, -2)\n"
     ]
    }
   ],
   "source": [
    "for i in range(len(distance_to_centre)):\n",
    "    if distance_to_centre[i] == 2.0:\n",
    "        print(\"The coordinate is\", points[i])"
   ]
  },
  {
   "cell_type": "code",
   "execution_count": 74,
   "metadata": {},
   "outputs": [
    {
     "name": "stdout",
     "output_type": "stream",
     "text": [
      "The coordinate is (9, 9)\n",
      "The coordinate is (-8, -9)\n"
     ]
    }
   ],
   "source": [
    "for i in range(len(distance_to_centre)):\n",
    "    if distance_to_centre[i] >= 9:\n",
    "        print(\"The coordinate is\", points[i])\n",
    "    "
   ]
  }
 ],
 "metadata": {
  "kernelspec": {
   "display_name": "Python 3",
   "language": "python",
   "name": "python3"
  },
  "language_info": {
   "codemirror_mode": {
    "name": "ipython",
    "version": 3
   },
   "file_extension": ".py",
   "mimetype": "text/x-python",
   "name": "python",
   "nbconvert_exporter": "python",
   "pygments_lexer": "ipython3",
   "version": "3.7.6"
  }
 },
 "nbformat": 4,
 "nbformat_minor": 4
}
