{
 "cells": [
  {
   "cell_type": "code",
   "execution_count": null,
   "metadata": {},
   "outputs": [],
   "source": [
    "stops = [(in1, out1), (in2, out2), (in3, out3), (in4, out4)]"
   ]
  },
  {
   "cell_type": "code",
   "execution_count": 52,
   "metadata": {},
   "outputs": [
    {
     "name": "stdout",
     "output_type": "stream",
     "text": [
      "There are in total 9 stops.\n"
     ]
    }
   ],
   "source": [
    "# Variables\n",
    "stops = [(10, 0), (4, 1), (3, 5), (3, 4), (5, 1), (1, 5), (5, 8), (4, 6), (2, 3)]\n",
    "print(\"There are in total\", len(stops), \"stops.\")"
   ]
  },
  {
   "cell_type": "code",
   "execution_count": 53,
   "metadata": {},
   "outputs": [
    {
     "name": "stdout",
     "output_type": "stream",
     "text": [
      "[10, 13, 11, 10, 14, 10, 7, 5, 4]\n"
     ]
    }
   ],
   "source": [
    "occupation_bus = 0\n",
    "occupation_list = []\n",
    "\n",
    "for i in range(len(stops)):\n",
    "    occupation_bus = occupation_bus + (stops[i][0] - stops[i][1])\n",
    "    occupation_list.append(occupation_bus)\n",
    "print(occupation_list)"
   ]
  },
  {
   "cell_type": "code",
   "execution_count": 54,
   "metadata": {},
   "outputs": [
    {
     "name": "stdout",
     "output_type": "stream",
     "text": [
      "Te maximum occupation of the bus is 14 people.\n"
     ]
    }
   ],
   "source": [
    "max_occupation = max(occupation_list)\n",
    "print(\"Te maximum occupation of the bus is\", max_occupation, \"people.\")"
   ]
  },
  {
   "cell_type": "code",
   "execution_count": 55,
   "metadata": {},
   "outputs": [
    {
     "name": "stdout",
     "output_type": "stream",
     "text": [
      "The average occupation for the bus has been 9.333333333333334 passengers.\n"
     ]
    }
   ],
   "source": [
    "average_occupation = sum(occupation_list)/len(stops)\n",
    "print(\"The average occupation for the bus has been\", average_occupation, \"passengers.\")"
   ]
  },
  {
   "cell_type": "code",
   "execution_count": 56,
   "metadata": {},
   "outputs": [
    {
     "name": "stdout",
     "output_type": "stream",
     "text": [
      "The standard deviation of the bus has been 3.391164991562634 passengers.\n"
     ]
    }
   ],
   "source": [
    "from statistics import *\n",
    "stdeviation_bus = stdev(occupation_list)\n",
    "print(\"The standard deviation of the bus has been\", stdeviation_bus, \"passengers.\")"
   ]
  }
 ],
 "metadata": {
  "kernelspec": {
   "display_name": "Python 3",
   "language": "python",
   "name": "python3"
  },
  "language_info": {
   "codemirror_mode": {
    "name": "ipython",
    "version": 3
   },
   "file_extension": ".py",
   "mimetype": "text/x-python",
   "name": "python",
   "nbconvert_exporter": "python",
   "pygments_lexer": "ipython3",
   "version": "3.7.6"
  }
 },
 "nbformat": 4,
 "nbformat_minor": 4
}
