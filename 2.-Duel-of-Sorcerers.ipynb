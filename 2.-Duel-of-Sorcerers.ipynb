{
 "cells": [
  {
   "cell_type": "code",
   "execution_count": 74,
   "metadata": {},
   "outputs": [],
   "source": [
    "gandalf = [10, 11, 13, 30, 22, 11, 10, 33, 22, 22]\n",
    "saruman = [23, 66, 12, 43, 12, 10, 44, 23, 12, 17]\n",
    "spells = len(gandalf)\n",
    "gandalf_wins = 0\n",
    "saruman_wins = 0"
   ]
  },
  {
   "cell_type": "code",
   "execution_count": 75,
   "metadata": {},
   "outputs": [
    {
     "name": "stdout",
     "output_type": "stream",
     "text": [
      "Gandalf wins a total of 6 times\n",
      "Saruman wins a total of 4 times\n"
     ]
    }
   ],
   "source": [
    "for spell in range(spells):\n",
    "    if (saruman[spell] > gandalf[spell]):\n",
    "        saruman_wins = saruman_wins +1\n",
    "    elif (gandalf[spell] > saruman[spell]):\n",
    "        gandalf_wins = gandalf_wins +1\n",
    "    else:\n",
    "        print(\"Tail\")\n",
    "\n",
    "print(\"Gandalf wins a total of\", gandalf_wins,\"times\")\n",
    "print(\"Saruman wins a total of\", saruman_wins, \"times\")"
   ]
  },
  {
   "cell_type": "code",
   "execution_count": 1,
   "metadata": {},
   "outputs": [],
   "source": [
    "#BONUS\n",
    "\n",
    "POWER = {\n",
    "    'Fireball': 50, \n",
    "    'Lightning bolt': 40, \n",
    "    'Magic arrow': 10, \n",
    "    'Black Tentacles': 25, \n",
    "    'Contagion': 45\n",
    "}\n",
    "\n",
    "gandalf = ['Fireball', 'Lightning bolt', 'Lightning bolt', 'Magic arrow', 'Fireball', \n",
    "           'Magic arrow', 'Lightning bolt', 'Fireball', 'Fireball', 'Fireball']\n",
    "saruman = ['Contagion', 'Contagion', 'Black Tentacles', 'Fireball', 'Black Tentacles', \n",
    "           'Lightning bolt', 'Magic arrow', 'Contagion', 'Magic arrow', 'Magic arrow']\n",
    "\n",
    "spells = len(gandalf)\n",
    "gandalf_wins = 0\n",
    "saruman_wins = 0\n",
    "gandalf_power = []\n",
    "saruman_power = []"
   ]
  },
  {
   "cell_type": "code",
   "execution_count": 3,
   "metadata": {},
   "outputs": [],
   "source": [
    "for i in range(spells):\n",
    "    gandalf_power.append(POWER[gandalf[i]])\n",
    "    saruman_power.append(POWER[saruman[i]])"
   ]
  },
  {
   "cell_type": "code",
   "execution_count": 4,
   "metadata": {},
   "outputs": [
    {
     "name": "stdout",
     "output_type": "stream",
     "text": [
      "gandalf power: [50, 40, 40, 10, 50, 10, 40, 50, 50, 50]\n",
      "saruman power: [45, 45, 25, 50, 25, 40, 10, 45, 10, 10]\n"
     ]
    }
   ],
   "source": [
    "print(\"gandalf power:\", gandalf_power)\n",
    "print(\"saruman power:\", saruman_power)"
   ]
  },
  {
   "cell_type": "code",
   "execution_count": 10,
   "metadata": {},
   "outputs": [
    {
     "name": "stdout",
     "output_type": "stream",
     "text": [
      "Gandalf wins in round 9\n"
     ]
    }
   ],
   "source": [
    "gandalf_wins = 0\n",
    "saruman_wins = 0\n",
    "\n",
    "for i in range(len(gandalf_power)):\n",
    "    if(gandalf_power[i] > saruman_power[i]):\n",
    "        gandalf_wins = gandalf_wins + 1\n",
    "        saruman_wins = 0\n",
    "    elif(gandalf_power[i] < saruman_power[i]):\n",
    "        saruman_wins = saruman_wins + 1\n",
    "        gandalf_wins = 0\n",
    "    else:\n",
    "        print(\"Draw\")\n",
    "    if (gandalf_wins >= 3):\n",
    "        print (\"Gandalf wins in round\", (i+1))\n",
    "        gandalf_wins = 0\n",
    "    elif(saruman_wins >= 3):\n",
    "        print (\"Saruman wins in round\", (i+1))\n",
    "        saruman_wins = 0"
   ]
  },
  {
   "cell_type": "code",
   "execution_count": 14,
   "metadata": {},
   "outputs": [
    {
     "name": "stdout",
     "output_type": "stream",
     "text": [
      "The average spell power of Gandalf is 39.0\n",
      "The average spell power of Saruman is 30.5\n"
     ]
    }
   ],
   "source": [
    "#Average spell power of each sorcecer\n",
    "avg = sum(gandalf_power)/len(gandalf_power)\n",
    "print(\"The average spell power of Gandalf is\", avg)\n",
    "avg = sum(saruman_power)/len(saruman_power)\n",
    "print(\"The average spell power of Saruman is\", avg)"
   ]
  },
  {
   "cell_type": "code",
   "execution_count": 20,
   "metadata": {},
   "outputs": [
    {
     "name": "stdout",
     "output_type": "stream",
     "text": [
      "The standard deviation of Gandalf spell power is 15.951314818673865\n",
      "The standard deviation of Saruman spell power is 16.40629960309962\n"
     ]
    }
   ],
   "source": [
    "#Standard deviation of the spell power of Gandalf and Saruman\n",
    "from statistics import *\n",
    "stdeviation_g = stdev(gandalf_power)\n",
    "print(\"The standard deviation of Gandalf spell power is\", stdeviation_g)\n",
    "stdeviation_s = stdev(saruman_power)\n",
    "print(\"The standard deviation of Saruman spell power is\", stdeviation_s)"
   ]
  }
 ],
 "metadata": {
  "kernelspec": {
   "display_name": "Python 3",
   "language": "python",
   "name": "python3"
  },
  "language_info": {
   "codemirror_mode": {
    "name": "ipython",
    "version": 3
   },
   "file_extension": ".py",
   "mimetype": "text/x-python",
   "name": "python",
   "nbconvert_exporter": "python",
   "pygments_lexer": "ipython3",
   "version": "3.7.6"
  }
 },
 "nbformat": 4,
 "nbformat_minor": 4
}
