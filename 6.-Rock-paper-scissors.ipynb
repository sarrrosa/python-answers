{
 "cells": [
  {
   "cell_type": "code",
   "execution_count": 1,
   "metadata": {
    "scrolled": true
   },
   "outputs": [],
   "source": [
    "# import random  \n",
    "import random \n",
    "# prints a random value from the list \n",
    "\n",
    "winnings = {\n",
    "    \"rock\":\"scissors\",\n",
    "    \"paper\":\"rock\",\n",
    "    \"scissors\":\"paper\"\n",
    "}\n",
    "\n",
    "gestures = [\"rock\", \"paper\", \"scissors\"]\n",
    "n_rounds = 15"
   ]
  },
  {
   "cell_type": "code",
   "execution_count": 2,
   "metadata": {},
   "outputs": [],
   "source": [
    "def play():\n",
    "    cpu_choice = random.choice(gestures)\n",
    "    print(\"Choose your gesture to play (paper, scissors, rock)\")\n",
    "    user_choice = input()\n",
    "    if cpu_choice == user_choice:\n",
    "        result = 0\n",
    "        print(\"The has been a tie.\")\n",
    "    elif cpu_choice == winnings[user_choice]:\n",
    "        result = 2\n",
    "        print(\"User wins.\")\n",
    "    else:\n",
    "        result = 1\n",
    "        print(\"The computer wins.\")\n",
    "\n",
    "    print(\"The user has chosen:\", user_choice)\n",
    "    print(\"The computer has chosen:\", cpu_choice)\n",
    "    return result"
   ]
  },
  {
   "cell_type": "code",
   "execution_count": 3,
   "metadata": {},
   "outputs": [
    {
     "name": "stdout",
     "output_type": "stream",
     "text": [
      "Choose your gesture to play (paper, scissors, rock)\n",
      "paper\n",
      "The computer wins.\n",
      "The user has chosen: paper\n",
      "The computer has chosen: scissors\n",
      "[DEBUG]cpu_counter =  1\n",
      "Choose your gesture to play (paper, scissors, rock)\n",
      "paper\n",
      "User wins.\n",
      "The user has chosen: paper\n",
      "The computer has chosen: rock\n",
      "[DEBUG]user_counter =  1\n",
      "Choose your gesture to play (paper, scissors, rock)\n",
      "rock\n",
      "User wins.\n",
      "The user has chosen: rock\n",
      "The computer has chosen: scissors\n",
      "[DEBUG]user_counter =  2\n",
      "Choose your gesture to play (paper, scissors, rock)\n",
      "scissors\n",
      "The has been a tie.\n",
      "The user has chosen: scissors\n",
      "The computer has chosen: scissors\n",
      "Choose your gesture to play (paper, scissors, rock)\n",
      "scissors\n",
      "The has been a tie.\n",
      "The user has chosen: scissors\n",
      "The computer has chosen: scissors\n",
      "Choose your gesture to play (paper, scissors, rock)\n",
      "rock\n",
      "User wins.\n",
      "The user has chosen: rock\n",
      "The computer has chosen: scissors\n",
      "[DEBUG]user_counter =  3\n",
      "---------------------------\n",
      "FINAL RESULTS:\n",
      "Winner of the competition is User\n"
     ]
    }
   ],
   "source": [
    "user_counter = 0\n",
    "cpu_counter = 0\n",
    "for x in range(n_rounds):\n",
    "    if (user_counter < 3) and (cpu_counter < 3):\n",
    "        result = play()\n",
    "        if result == 1:\n",
    "            cpu_counter = cpu_counter + 1\n",
    "            print (\"[DEBUG]cpu_counter = \", cpu_counter)\n",
    "        elif result == 2:\n",
    "            user_counter = user_counter + 1\n",
    "            print (\"[DEBUG]user_counter = \", user_counter)\n",
    "            \n",
    "print(\"---------------------------\")\n",
    "print(\"FINAL RESULTS:\")\n",
    "if user_counter > cpu_counter:\n",
    "    print(\"Winner of the competition is User\")\n",
    "elif user_counter < cpu_counter:\n",
    "    print(\"Winner of the competition is Computer\")\n",
    "else:\n",
    "    print(\"Tie!\")\n"
   ]
  },
  {
   "cell_type": "code",
   "execution_count": 6,
   "metadata": {},
   "outputs": [],
   "source": [
    "# import random  \n",
    "import random \n",
    "# prints a random value from the list \n",
    "\n",
    "winnings = {\n",
    "    \"rock\":\"scissors\",\n",
    "    \"paper\":\"rock\",\n",
    "    \"scissors\":\"paper\",\n",
    "    \"lizard\":\"paper\",\n",
    "    \"spock\":\"scissors\"\n",
    "    \n",
    "}\n",
    "\n",
    "gestures = [\"rock\", \"paper\", \"scissors\", \"lizard\", \"spock\"]\n",
    "n_rounds = 15"
   ]
  },
  {
   "cell_type": "code",
   "execution_count": 7,
   "metadata": {},
   "outputs": [],
   "source": [
    "def play():\n",
    "    cpu_choice = random.choice(gestures)\n",
    "    print(\"Choose your gesture to play (paper, scissors, rock, lizard, spock)\")\n",
    "    user_choice = input()\n",
    "    if cpu_choice == user_choice:\n",
    "        result = 0\n",
    "        print(\"The has been a tie.\")\n",
    "    elif cpu_choice == winnings[user_choice]:\n",
    "        result = 2\n",
    "        print(\"User wins.\")\n",
    "    else:\n",
    "        result = 1\n",
    "        print(\"The computer wins.\")\n",
    "\n",
    "    print(\"The user has chosen:\", user_choice)\n",
    "    print(\"The computer has chosen:\", cpu_choice)\n",
    "    return result"
   ]
  },
  {
   "cell_type": "code",
   "execution_count": 8,
   "metadata": {},
   "outputs": [
    {
     "name": "stdout",
     "output_type": "stream",
     "text": [
      "Choose your gesture to play (paper, scissors, rock, lizard, spock)\n",
      "lizard\n",
      "The computer wins.\n",
      "The user has chosen: lizard\n",
      "The computer has chosen: rock\n",
      "[DEBUG]cpu_counter =  1\n",
      "Choose your gesture to play (paper, scissors, rock, lizard, spock)\n",
      "spock\n",
      "The computer wins.\n",
      "The user has chosen: spock\n",
      "The computer has chosen: paper\n",
      "[DEBUG]cpu_counter =  2\n",
      "Choose your gesture to play (paper, scissors, rock, lizard, spock)\n",
      "rock\n",
      "The computer wins.\n",
      "The user has chosen: rock\n",
      "The computer has chosen: lizard\n",
      "[DEBUG]cpu_counter =  3\n",
      "---------------------------\n",
      "FINAL RESULTS:\n",
      "Winner of the competition is Computer\n"
     ]
    }
   ],
   "source": [
    "user_counter = 0\n",
    "cpu_counter = 0\n",
    "for x in range(n_rounds):\n",
    "    if (user_counter < 3) and (cpu_counter < 3):\n",
    "        result = play()\n",
    "        if result == 1:\n",
    "            cpu_counter = cpu_counter + 1\n",
    "            print (\"[DEBUG]cpu_counter = \", cpu_counter)\n",
    "        elif result == 2:\n",
    "            user_counter = user_counter + 1\n",
    "            print (\"[DEBUG]user_counter = \", user_counter)\n",
    "            \n",
    "print(\"---------------------------\")\n",
    "print(\"FINAL RESULTS:\")\n",
    "if user_counter > cpu_counter:\n",
    "    print(\"Winner of the competition is User\")\n",
    "elif user_counter < cpu_counter:\n",
    "    print(\"Winner of the competition is Computer\")\n",
    "else:\n",
    "    print(\"Tie!\")"
   ]
  }
 ],
 "metadata": {
  "kernelspec": {
   "display_name": "Python 3",
   "language": "python",
   "name": "python3"
  },
  "language_info": {
   "codemirror_mode": {
    "name": "ipython",
    "version": 3
   },
   "file_extension": ".py",
   "mimetype": "text/x-python",
   "name": "python",
   "nbconvert_exporter": "python",
   "pygments_lexer": "ipython3",
   "version": "3.7.6"
  }
 },
 "nbformat": 4,
 "nbformat_minor": 4
}
